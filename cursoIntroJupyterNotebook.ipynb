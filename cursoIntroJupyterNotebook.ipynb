{
 "cells": [
  {
   "cell_type": "markdown",
   "metadata": {},
   "source": [
    "# Curso de instroducción a python\n",
    "## Estructuras básicas"
   ]
  },
  {
   "cell_type": "markdown",
   "metadata": {},
   "source": [
    "### Uso de variables, asignación, entrada  salida"
   ]
  },
  {
   "cell_type": "code",
   "execution_count": 2,
   "metadata": {},
   "outputs": [
    {
     "name": "stdout",
     "output_type": "stream",
     "text": [
      "Ingresa tu nobre: Reload\n"
     ]
    }
   ],
   "source": [
    "# reading a parameter using input() function\n",
    "name = input(\"Ingresa tu nobre: \")"
   ]
  },
  {
   "cell_type": "code",
   "execution_count": 3,
   "metadata": {},
   "outputs": [
    {
     "name": "stdout",
     "output_type": "stream",
     "text": [
      "Tu nombre es: Reload\n"
     ]
    }
   ],
   "source": [
    "# writing an output for console using print() function\n",
    "print(f\"Tu nombre es: {name}\")"
   ]
  },
  {
   "cell_type": "code",
   "execution_count": 4,
   "metadata": {},
   "outputs": [
    {
     "name": "stdout",
     "output_type": "stream",
     "text": [
      "Tu nombre es: **Reload\n"
     ]
    }
   ],
   "source": [
    "# to print into a single line, change the ending value of print() function\n",
    "print('Tu nombre es: ', end='**')\n",
    "print(name)"
   ]
  },
  {
   "cell_type": "code",
   "execution_count": 8,
   "metadata": {},
   "outputs": [
    {
     "name": "stdout",
     "output_type": "stream",
     "text": [
      "Ingresa las horas a convertir: 6\n",
      "6.0 horas equivalen a 21600.0 segundos\n"
     ]
    }
   ],
   "source": [
    "# Ejercicio 1\n",
    "  #Convertir de horas a segundos la cantidad ingresada por el usuario\n",
    "\n",
    "hours = input('Ingresa las horas a convertir: ')\n",
    "hours = float(hours)\n",
    "seconds = hours * 3600\n",
    "print(f'{hours} horas equivalen a {seconds} segundos')"
   ]
  },
  {
   "cell_type": "code",
   "execution_count": null,
   "metadata": {},
   "outputs": [],
   "source": []
  },
  {
   "cell_type": "code",
   "execution_count": null,
   "metadata": {},
   "outputs": [],
   "source": []
  }
 ],
 "metadata": {
  "kernelspec": {
   "display_name": "Python 3",
   "language": "python",
   "name": "python3"
  },
  "language_info": {
   "codemirror_mode": {
    "name": "ipython",
    "version": 3
   },
   "file_extension": ".py",
   "mimetype": "text/x-python",
   "name": "python",
   "nbconvert_exporter": "python",
   "pygments_lexer": "ipython3",
   "version": "3.7.3"
  }
 },
 "nbformat": 4,
 "nbformat_minor": 2
}
